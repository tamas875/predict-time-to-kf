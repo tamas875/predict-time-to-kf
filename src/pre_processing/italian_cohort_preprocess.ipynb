{
 "cells": [
  {
   "cell_type": "markdown",
   "id": "60c7b977-fa93-4375-abd8-7356b6171b4e",
   "metadata": {},
   "source": [
    "# Preprocess the training and national validation data"
   ]
  },
  {
   "cell_type": "code",
   "execution_count": 1,
   "id": "67d6b8d1-e978-450f-8cb8-7dcd7ccaa5ba",
   "metadata": {},
   "outputs": [
    {
     "data": {
      "text/plain": [
       "Index(['Imputation_', 'ID_progressivo', 'ID', 'Studio', 'Visite', 'Duplicati',\n",
       "       'Data_v1', 'Centro', 'Iniz', 'Data_nascita',\n",
       "       ...\n",
       "       'ESRD', 'Death_preHD', 'fu_esrd_2', 'fu_morte_2', 'fu_esrd_1',\n",
       "       'fu_morte_1', 'time12', 'stadi', 'filter_$', 'stadi_345'],\n",
       "      dtype='object', length=102)"
      ]
     },
     "execution_count": 1,
     "metadata": {},
     "output_type": "execute_result"
    }
   ],
   "source": [
    "import pandas as pd\n",
    "import numpy as np\n",
    "import os\n",
    "from dotenv import load_dotenv\n",
    "\n",
    "load_dotenv()\n",
    "data_path = os.getenv('RAW_DATA')\n",
    "\n",
    "df = pd.read_csv(data_path)\n",
    "df = df.loc[df['Imputation_'] == 0]\n",
    "df.columns"
   ]
  },
  {
   "cell_type": "code",
   "execution_count": 2,
   "id": "6deb0e5b-2d56-44fc-8f30-78a2e1457e45",
   "metadata": {},
   "outputs": [
    {
     "name": "stdout",
     "output_type": "stream",
     "text": [
      "(3957, 102)\n",
      "3957\n"
     ]
    }
   ],
   "source": [
    "print(df.shape)\n",
    "print((df['Imputation_'] == 0).sum())"
   ]
  },
  {
   "cell_type": "markdown",
   "id": "97963f8c-a4ae-48ac-9e02-b7976defd206",
   "metadata": {},
   "source": [
    "### Preprocess the data"
   ]
  },
  {
   "cell_type": "code",
   "execution_count": 3,
   "id": "85170a1d-c041-4554-a4c1-497d04e6ad42",
   "metadata": {},
   "outputs": [
    {
     "data": {
      "text/plain": [
       "Index(['Studio', 'Sesso', 'Altezza', 'Peso', 'Diabete', 'IMA', 'Ictus',\n",
       "       'Angina', 'PVD', 'CHF', 'CVD', 'Fumo', 'ESRD', 'Eta1', 'Pas1', 'Pad1',\n",
       "       'Prot1', 'Sodiuria1', 'Creat1', 'Epi1', 'Trigliceridi1', 'Colesterolo1',\n",
       "       'Ldl1', 'Glicemia1', 'Hb1', 'Ca1', 'P1', 'Albumina1', 'BMI1', 'RAS1',\n",
       "       'All_diuretici1', 'ckd_cause_hypertens', 'ckd_cause_diabet',\n",
       "       'ckd_cause_glom_dis', 'ckd_cause_tubul_inter', 'ckd_cause_pkd',\n",
       "       'esrd_upper', 'esrd_lower'],\n",
       "      dtype='object')"
      ]
     },
     "execution_count": 3,
     "metadata": {},
     "output_type": "execute_result"
    }
   ],
   "source": [
    "# Select only useful columns\n",
    "\n",
    "df = df[['ID_progressivo', 'Visite', 'Studio', 'Centro', 'Sesso', 'Altezza', 'Peso', 'Diabete',\n",
    "       'Diagnosi_new', 'IMA', 'Ictus', 'Angina', 'PVD', 'CHF', 'CVD', 'Fumo',\n",
    "       'ESRD', 'stadi', 'Eta1', 'Pas1', 'Pad1', 'Prot1', 'Sodiuria1',\n",
    "       'Creat1', 'Creatininuria1', 'Epi1', 'prot_gfr1', 'Trigliceridi1',\n",
    "       'Colesterolo1', 'Ldl1', 'Hdl1', 'Glicemia1', 'Hb1', 'Tsat1',\n",
    "       'Ferritina1', 'Ca1', 'P1', 'PTH1', 'Albumina1', 'BMI1', 'CCB1', 'ACE1',\n",
    "       'ARB1', 'RAS1', 'BB1', 'All_diuretici1', 'N_farmaci1', 'ESA1', 'VitD1',\n",
    "       'Statine1', 'fu_esrd_1']]\n",
    "\n",
    "# One hot encode CKD cause\n",
    "df['ckd_cause_hypertens'] = np.where(df['Diagnosi_new'] == 1, 1, 0)\n",
    "df['ckd_cause_diabet'] = np.where(df['Diagnosi_new'] == 2, 1, 0)\n",
    "df['ckd_cause_glom_dis'] = np.where(df['Diagnosi_new'] == 3, 1, 0)\n",
    "df['ckd_cause_tubul_inter'] = np.where(df['Diagnosi_new'] == 4, 1, 0)\n",
    "df['ckd_cause_pkd'] = np.where(df['Diagnosi_new'] == 5, 1, 0)\n",
    "\n",
    "# Prepare follow-up data for training\n",
    "df['esrd_upper'] = np.where(df['ESRD'] == 1, df['fu_esrd_1'], np.where(df['ESRD'] == 0, np.inf, df['fu_esrd_1']))\n",
    "df['esrd_lower'] = df['fu_esrd_1']\n",
    "\n",
    "# Drop unncessary columns\n",
    "df = df.drop(columns = ['ID_progressivo', 'Visite', 'Centro',\n",
    "                        'fu_esrd_1', 'VitD1', 'Hdl1', 'Ferritina1', 'Tsat1',\n",
    "                        'PTH1', 'prot_gfr1', 'stadi', 'ESA1', 'N_farmaci1', \n",
    "                        'Creatininuria1', 'ACE1', 'ARB1', 'Statine1', 'BB1',\n",
    "                        'CCB1', 'Diagnosi_new'])\n",
    "\n",
    "df.columns"
   ]
  },
  {
   "cell_type": "code",
   "execution_count": 4,
   "id": "f9381d7b-444a-410a-ad22-0c79dc5917c1",
   "metadata": {},
   "outputs": [
    {
     "name": "stdout",
     "output_type": "stream",
     "text": [
      "Percent of missings per feature:\n",
      "\n",
      "Studio: 0.0%\n",
      "Sesso: 0.0%\n",
      "Altezza: 0.3%\n",
      "Peso: 0.6%\n",
      "Diabete: 0.0%\n",
      "IMA: 11.4%\n",
      "Ictus: 11.4%\n",
      "Angina: 16.0%\n",
      "PVD: 11.4%\n",
      "CHF: 11.4%\n",
      "CVD: 9.3%\n",
      "Fumo: 14.2%\n",
      "ESRD: 0.0%\n",
      "Eta1: 0.0%\n",
      "Pas1: 1.2%\n",
      "Pad1: 1.2%\n",
      "Prot1: 0.0%\n",
      "Sodiuria1: 40.6%\n",
      "Creat1: 0.0%\n",
      "Epi1: 0.0%\n",
      "Trigliceridi1: 11.1%\n",
      "Colesterolo1: 5.2%\n",
      "Ldl1: 31.5%\n",
      "Glicemia1: 10.2%\n",
      "Hb1: 1.1%\n",
      "Ca1: 9.0%\n",
      "P1: 9.1%\n",
      "Albumina1: 18.1%\n",
      "BMI1: 1.0%\n",
      "RAS1: 1.8%\n",
      "All_diuretici1: 11.8%\n",
      "ckd_cause_hypertens: 0.0%\n",
      "ckd_cause_diabet: 0.0%\n",
      "ckd_cause_glom_dis: 0.0%\n",
      "ckd_cause_tubul_inter: 0.0%\n",
      "ckd_cause_pkd: 0.0%\n",
      "esrd_upper: 0.0%\n",
      "esrd_lower: 0.0%\n"
     ]
    }
   ],
   "source": [
    "print('Percent of missings per feature:\\n')\n",
    "\n",
    "for col in df.columns:\n",
    "    print(col + ': ' + str(round((sum(np.isnan(df[col])) / len(df)) * 100, 1)) + '%')"
   ]
  },
  {
   "cell_type": "code",
   "execution_count": 5,
   "id": "9bbb7468-280e-4941-a77e-c37e34e8557c",
   "metadata": {},
   "outputs": [
    {
     "data": {
      "text/plain": [
       "Index(['Studio', 'Sesso', 'Diabete', 'ESRD', 'Eta1', 'Prot1', 'Creat1', 'Epi1',\n",
       "       'Colesterolo1', 'Hb1', 'Ca1', 'P1', 'BMI1', 'ckd_cause_hypertens',\n",
       "       'ckd_cause_diabet', 'ckd_cause_glom_dis', 'ckd_cause_tubul_inter',\n",
       "       'ckd_cause_pkd', 'esrd_upper', 'esrd_lower'],\n",
       "      dtype='object')"
      ]
     },
     "execution_count": 5,
     "metadata": {},
     "output_type": "execute_result"
    }
   ],
   "source": [
    "# Drop columns with high percent of missings\n",
    "df = df.drop(columns = ['Sodiuria1', 'Ldl1', 'Trigliceridi1', 'Fumo', 'IMA', 'Ictus', 'Angina', 'PVD', \n",
    "                        'CHF', 'CVD', 'Pad1', 'Pas1', 'All_diuretici1', 'Altezza', 'Peso', 'Glicemia1', \n",
    "                        'Albumina1', 'RAS1'])\n",
    "df.columns"
   ]
  },
  {
   "cell_type": "code",
   "execution_count": 6,
   "id": "466d3366-fc18-4fd7-865a-34bbf7cf7662",
   "metadata": {},
   "outputs": [
    {
     "name": "stdout",
     "output_type": "stream",
     "text": [
      "Percent of missings per feature:\n",
      "\n",
      "Studio: 0.0%\n",
      "Sesso: 0.0%\n",
      "Diabete: 0.0%\n",
      "ESRD: 0.0%\n",
      "Eta1: 0.0%\n",
      "Prot1: 0.0%\n",
      "Creat1: 0.0%\n",
      "Epi1: 0.0%\n",
      "Colesterolo1: 5.2%\n",
      "Hb1: 1.1%\n",
      "Ca1: 9.0%\n",
      "P1: 9.1%\n",
      "BMI1: 1.0%\n",
      "ckd_cause_hypertens: 0.0%\n",
      "ckd_cause_diabet: 0.0%\n",
      "ckd_cause_glom_dis: 0.0%\n",
      "ckd_cause_tubul_inter: 0.0%\n",
      "ckd_cause_pkd: 0.0%\n",
      "esrd_upper: 0.0%\n",
      "esrd_lower: 0.0%\n"
     ]
    }
   ],
   "source": [
    "print('Percent of missings per feature:\\n')\n",
    "\n",
    "for col in df.columns:\n",
    "    print(col + ': ' + str(round((sum(np.isnan(df[col])) / len(df)) * 100, 1)) + '%')"
   ]
  },
  {
   "cell_type": "code",
   "execution_count": 7,
   "id": "9361a47b-945c-4203-82a8-fa64c4532a99",
   "metadata": {},
   "outputs": [
    {
     "name": "stdout",
     "output_type": "stream",
     "text": [
      "Unique values per feature\n",
      "\n",
      "Studio: 6\n",
      "Sesso: 2\n",
      "Diabete: 2\n",
      "ESRD: 2\n",
      "Eta1: 3569\n",
      "Prot1: 892\n",
      "Creat1: 383\n",
      "Epi1: 3952\n",
      "Colesterolo1: 299\n",
      "Hb1: 110\n",
      "Ca1: 59\n",
      "P1: 70\n",
      "BMI1: 2088\n",
      "ckd_cause_hypertens: 2\n",
      "ckd_cause_diabet: 2\n",
      "ckd_cause_glom_dis: 2\n",
      "ckd_cause_tubul_inter: 2\n",
      "ckd_cause_pkd: 2\n",
      "esrd_upper: 704\n",
      "esrd_lower: 1956\n",
      "\n",
      "------------\n",
      "Numerical variables:\n",
      "['Colesterolo1', 'Hb1', 'Ca1', 'P1', 'BMI1']\n",
      "\n",
      "------------\n",
      "Categorical variables:\n",
      "[]\n"
     ]
    }
   ],
   "source": [
    "num_vars = []\n",
    "cat_vars = []\n",
    "print('Unique values per feature\\n')\n",
    "for col in df.columns:\n",
    "    if (len(np.unique(df[col])) >= 10) & (sum(np.isnan(df[col])) != 0):\n",
    "        num_vars.append(col)\n",
    "    elif (len(np.unique(df[col])) < 10) & (sum(np.isnan(df[col])) != 0):\n",
    "        cat_vars.append(col)\n",
    "    print(col + ': ' + str(len(np.unique(df[col]))))\n",
    "\n",
    "print('\\n------------\\nNumerical variables:')\n",
    "print(num_vars)\n",
    "print('\\n------------\\nCategorical variables:')\n",
    "print(cat_vars)"
   ]
  },
  {
   "cell_type": "code",
   "execution_count": 8,
   "id": "0fc75bf6-860a-42f1-a9e7-e99be11b8bd0",
   "metadata": {},
   "outputs": [],
   "source": [
    "# Use cohort 3 as a test set\n",
    "\n",
    "train = df.loc[df['Studio'] != 7]\n",
    "test = df.loc[df['Studio'] == 7]"
   ]
  },
  {
   "cell_type": "code",
   "execution_count": 9,
   "id": "8f5da097-b4d5-463d-98e5-0b3cc171e6aa",
   "metadata": {},
   "outputs": [],
   "source": [
    "from statistics import mode\n",
    "# Impute numerical variables\n",
    "\n",
    "for num_var in num_vars:\n",
    "    train_index = train.index\n",
    "    train.loc[train_index, num_var] = train[num_var].fillna(train[num_var].median())\n",
    "\n",
    "for cat_var in cat_vars:\n",
    "    train_index = train.index\n",
    "    train.loc[train_index, cat_var] = train[cat_var].fillna(mode(train[cat_var]))"
   ]
  },
  {
   "cell_type": "code",
   "execution_count": 10,
   "id": "d9384b6b-d008-4760-bd38-245382dbd050",
   "metadata": {},
   "outputs": [
    {
     "name": "stdout",
     "output_type": "stream",
     "text": [
      "Percent of missings per feature for the training set:\n",
      "\n",
      "Studio: 0.0%\n",
      "Sesso: 0.0%\n",
      "Diabete: 0.0%\n",
      "ESRD: 0.0%\n",
      "Eta1: 0.0%\n",
      "Prot1: 0.0%\n",
      "Creat1: 0.0%\n",
      "Epi1: 0.0%\n",
      "Colesterolo1: 0.0%\n",
      "Hb1: 0.0%\n",
      "Ca1: 0.0%\n",
      "P1: 0.0%\n",
      "BMI1: 0.0%\n",
      "ckd_cause_hypertens: 0.0%\n",
      "ckd_cause_diabet: 0.0%\n",
      "ckd_cause_glom_dis: 0.0%\n",
      "ckd_cause_tubul_inter: 0.0%\n",
      "ckd_cause_pkd: 0.0%\n",
      "esrd_upper: 0.0%\n",
      "esrd_lower: 0.0%\n"
     ]
    }
   ],
   "source": [
    "print('Percent of missings per feature for the training set:\\n')\n",
    "for col in train.columns:\n",
    "    print(col + ': ' + str(round((sum(np.isnan(train[col])) / len(train)) * 100, 1)) + '%')"
   ]
  },
  {
   "cell_type": "code",
   "execution_count": 11,
   "id": "c9b0fb26-0897-43c3-a88f-0cc5df20fb79",
   "metadata": {},
   "outputs": [
    {
     "name": "stdout",
     "output_type": "stream",
     "text": [
      "Percent of missings per feature for the test set:\n",
      "\n",
      "Studio: 0.0%\n",
      "Sesso: 0.0%\n",
      "Diabete: 0.0%\n",
      "ESRD: 0.0%\n",
      "Eta1: 0.0%\n",
      "Prot1: 0.0%\n",
      "Creat1: 0.0%\n",
      "Epi1: 0.0%\n",
      "Colesterolo1: 0.0%\n",
      "Hb1: 1.1%\n",
      "Ca1: 0.6%\n",
      "P1: 1.4%\n",
      "BMI1: 0.3%\n",
      "ckd_cause_hypertens: 0.0%\n",
      "ckd_cause_diabet: 0.0%\n",
      "ckd_cause_glom_dis: 0.0%\n",
      "ckd_cause_tubul_inter: 0.0%\n",
      "ckd_cause_pkd: 0.0%\n",
      "esrd_upper: 0.0%\n",
      "esrd_lower: 0.0%\n"
     ]
    }
   ],
   "source": [
    "print('Percent of missings per feature for the test set:\\n')\n",
    "for col in train.columns:\n",
    "    print(col + ': ' + str(round((sum(np.isnan(test[col])) / len(test)) * 100, 1)) + '%')"
   ]
  },
  {
   "cell_type": "code",
   "execution_count": 12,
   "id": "485417d6-ea4b-40aa-903a-b77343e0c5ec",
   "metadata": {},
   "outputs": [],
   "source": [
    "train_data_path = os.getenv('TRAINING_DATA')\n",
    "nat_val_data_path = os.getenv('NATIONAL_VAL')\n",
    "train.to_csv(train_data_path, index = False)\n",
    "test.to_csv(nat_val_data_path, index = False)"
   ]
  }
 ],
 "metadata": {
  "kernelspec": {
   "display_name": "Python 3 (ipykernel)",
   "language": "python",
   "name": "python3"
  },
  "language_info": {
   "codemirror_mode": {
    "name": "ipython",
    "version": 3
   },
   "file_extension": ".py",
   "mimetype": "text/x-python",
   "name": "python",
   "nbconvert_exporter": "python",
   "pygments_lexer": "ipython3",
   "version": "3.9.6"
  }
 },
 "nbformat": 4,
 "nbformat_minor": 5
}
