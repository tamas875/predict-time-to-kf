{
 "cells": [
  {
   "cell_type": "markdown",
   "id": "63fa1f87-255c-4572-8c61-5805686c852b",
   "metadata": {},
   "source": [
    "# Save SHAP values"
   ]
  },
  {
   "cell_type": "code",
   "execution_count": 67,
   "id": "fc1425a5-c216-4a97-9183-4f0b7c1d4771",
   "metadata": {},
   "outputs": [],
   "source": [
    "from shap import TreeExplainer\n",
    "from xgboost import Booster, DMatrix\n",
    "from os import listdir\n",
    "\n",
    "class BaggingXGBRegressor():\n",
    "    \"\"\"\n",
    "    Load a BaggingXGBRegressor model.\n",
    "    \"\"\"\n",
    "    \n",
    "    def __init__(self):\n",
    "        self.__models = list()\n",
    "        \n",
    "    def predict(self, df, **kwargs):\n",
    "        return array([ m.predict(DMatrix(df), **kwargs) for m in self.__models ])\n",
    "\n",
    "    def load(bagging_model):\n",
    "        model_files = listdir(bagging_model)\n",
    "        model = BaggingXGBRegressor()\n",
    "        \n",
    "        for file in model_files:\n",
    "            m = Booster()\n",
    "            m.load_model(f\"{bagging_model}/{file}\")\n",
    "            model.__models.append(m)\n",
    "        return model\n",
    "    \n",
    "    def feature_importances(self, importance_type='gain', df = None):\n",
    "        \n",
    "        if importance_type == 'shap':   \n",
    "            return(self._shap_values())\n",
    "        else:\n",
    "            return concat([ DataFrame(m.get_score(importance_type=importance_type), index=[i]) for i, m in enumerate(self.__models) ])\n",
    "    \n",
    "    def _shap_values(self):\n",
    "        dictionary = [ TreeExplainer(m) for m in self.__models ]\n",
    "        return dictionary"
   ]
  },
  {
   "cell_type": "code",
   "execution_count": 68,
   "id": "0a9546de-6529-4673-80bd-8b8568b50565",
   "metadata": {},
   "outputs": [],
   "source": [
    "model = BaggingXGBRegressor.load('saved_models/predict_kf_model_json')\n",
    "#shap_vals = model.feature_importances(importance_type='shap')"
   ]
  },
  {
   "cell_type": "code",
   "execution_count": 5,
   "id": "d1bfff3f-535a-4204-b14e-66d75be8e5d6",
   "metadata": {},
   "outputs": [
    {
     "data": {
      "text/plain": [
       "[<shap.explainers._tree.TreeExplainer at 0x30b0f7d90>,\n",
       " <shap.explainers._tree.TreeExplainer at 0x30b1be880>,\n",
       " <shap.explainers._tree.TreeExplainer at 0x30b06a6d0>,\n",
       " <shap.explainers._tree.TreeExplainer at 0x35c8cf0d0>,\n",
       " <shap.explainers._tree.TreeExplainer at 0x35db03040>,\n",
       " <shap.explainers._tree.TreeExplainer at 0x35c8cf130>,\n",
       " <shap.explainers._tree.TreeExplainer at 0x35f58c700>,\n",
       " <shap.explainers._tree.TreeExplainer at 0x35c9f7610>,\n",
       " <shap.explainers._tree.TreeExplainer at 0x35f5df0d0>,\n",
       " <shap.explainers._tree.TreeExplainer at 0x35da34250>,\n",
       " <shap.explainers._tree.TreeExplainer at 0x35cfe7190>,\n",
       " <shap.explainers._tree.TreeExplainer at 0x36b5ffe50>,\n",
       " <shap.explainers._tree.TreeExplainer at 0x36e7bd0d0>,\n",
       " <shap.explainers._tree.TreeExplainer at 0x30b29bb80>,\n",
       " <shap.explainers._tree.TreeExplainer at 0x36aa347c0>,\n",
       " <shap.explainers._tree.TreeExplainer at 0x3610fa6d0>,\n",
       " <shap.explainers._tree.TreeExplainer at 0x363c0c040>,\n",
       " <shap.explainers._tree.TreeExplainer at 0x35b7d4040>,\n",
       " <shap.explainers._tree.TreeExplainer at 0x374e010d0>,\n",
       " <shap.explainers._tree.TreeExplainer at 0x36e4c8f10>,\n",
       " <shap.explainers._tree.TreeExplainer at 0x361459c40>,\n",
       " <shap.explainers._tree.TreeExplainer at 0x36b04cb50>,\n",
       " <shap.explainers._tree.TreeExplainer at 0x387d275b0>,\n",
       " <shap.explainers._tree.TreeExplainer at 0x35d7b86a0>,\n",
       " <shap.explainers._tree.TreeExplainer at 0x35cf0a100>,\n",
       " <shap.explainers._tree.TreeExplainer at 0x35d8fd130>,\n",
       " <shap.explainers._tree.TreeExplainer at 0x37b4174c0>,\n",
       " <shap.explainers._tree.TreeExplainer at 0x37b3d30d0>,\n",
       " <shap.explainers._tree.TreeExplainer at 0x39fb43100>,\n",
       " <shap.explainers._tree.TreeExplainer at 0x3a55ea0d0>,\n",
       " <shap.explainers._tree.TreeExplainer at 0x395210d00>,\n",
       " <shap.explainers._tree.TreeExplainer at 0x35d8220d0>,\n",
       " <shap.explainers._tree.TreeExplainer at 0x36b7cf0d0>,\n",
       " <shap.explainers._tree.TreeExplainer at 0x38c039070>,\n",
       " <shap.explainers._tree.TreeExplainer at 0x38c3e7100>,\n",
       " <shap.explainers._tree.TreeExplainer at 0x387bda070>,\n",
       " <shap.explainers._tree.TreeExplainer at 0x35c5e10d0>,\n",
       " <shap.explainers._tree.TreeExplainer at 0x3abb420d0>,\n",
       " <shap.explainers._tree.TreeExplainer at 0x3ab8f70d0>,\n",
       " <shap.explainers._tree.TreeExplainer at 0x35c72f040>,\n",
       " <shap.explainers._tree.TreeExplainer at 0x3a56500d0>,\n",
       " <shap.explainers._tree.TreeExplainer at 0x30b703460>,\n",
       " <shap.explainers._tree.TreeExplainer at 0x39f67c0d0>,\n",
       " <shap.explainers._tree.TreeExplainer at 0x35d1f30a0>,\n",
       " <shap.explainers._tree.TreeExplainer at 0x3880090d0>,\n",
       " <shap.explainers._tree.TreeExplainer at 0x39f9acca0>,\n",
       " <shap.explainers._tree.TreeExplainer at 0x37613de80>,\n",
       " <shap.explainers._tree.TreeExplainer at 0x36675b0d0>,\n",
       " <shap.explainers._tree.TreeExplainer at 0x39f5240d0>,\n",
       " <shap.explainers._tree.TreeExplainer at 0x387b9a0d0>]"
      ]
     },
     "execution_count": 5,
     "metadata": {},
     "output_type": "execute_result"
    }
   ],
   "source": [
    "shap_vals"
   ]
  },
  {
   "cell_type": "code",
   "execution_count": 36,
   "id": "4757c851-ef60-413f-a1f6-72db67ee3af4",
   "metadata": {},
   "outputs": [],
   "source": [
    "shap_vals_1 = shap_vals[0:8]\n",
    "shap_vals_2 = shap_vals[8:16]\n",
    "shap_vals_3 = shap_vals[16:24]\n",
    "shap_vals_4 = shap_vals[24:32]\n",
    "shap_vals_5 = shap_vals[32:38]\n",
    "shap_vals_6 = shap_vals[38:45]\n",
    "shap_vals_7 = shap_vals[45:50]"
   ]
  },
  {
   "cell_type": "code",
   "execution_count": 37,
   "id": "f6dd3cc1-1a83-47be-8050-d30d2789045a",
   "metadata": {},
   "outputs": [
    {
     "data": {
      "text/plain": [
       "['saved_models/shap/tree_explainers_7.pkl']"
      ]
     },
     "execution_count": 37,
     "metadata": {},
     "output_type": "execute_result"
    }
   ],
   "source": [
    "import joblib\n",
    "joblib.dump(shap_vals_1, 'saved_models/shap/tree_explainers_1.pkl', compress=3)\n",
    "joblib.dump(shap_vals_2, 'saved_models/shap/tree_explainers_2.pkl', compress=3)\n",
    "joblib.dump(shap_vals_3, 'saved_models/shap/tree_explainers_3.pkl', compress=3)\n",
    "joblib.dump(shap_vals_4, 'saved_models/shap/tree_explainers_4.pkl', compress=3)\n",
    "joblib.dump(shap_vals_5, 'saved_models/shap/tree_explainers_5.pkl', compress=3)\n",
    "joblib.dump(shap_vals_6, 'saved_models/shap/tree_explainers_6.pkl', compress=3)\n",
    "joblib.dump(shap_vals_7, 'saved_models/shap/tree_explainers_7.pkl', compress=3)"
   ]
  },
  {
   "cell_type": "code",
   "execution_count": 39,
   "id": "8715dd83-e64a-4eda-8077-f0d9672cfeb9",
   "metadata": {},
   "outputs": [
    {
     "name": "stdout",
     "output_type": "stream",
     "text": [
      "3.9.6 (default, Apr 30 2025, 02:07:17) \n",
      "[Clang 17.0.0 (clang-1700.0.13.5)]\n"
     ]
    }
   ],
   "source": [
    "import sys\n",
    "print(sys.version)"
   ]
  }
 ],
 "metadata": {
  "kernelspec": {
   "display_name": "Python 3 (ipykernel)",
   "language": "python",
   "name": "python3"
  },
  "language_info": {
   "codemirror_mode": {
    "name": "ipython",
    "version": 3
   },
   "file_extension": ".py",
   "mimetype": "text/x-python",
   "name": "python",
   "nbconvert_exporter": "python",
   "pygments_lexer": "ipython3",
   "version": "3.9.6"
  }
 },
 "nbformat": 4,
 "nbformat_minor": 5
}
